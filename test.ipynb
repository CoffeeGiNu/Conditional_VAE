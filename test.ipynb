{
 "cells": [
  {
   "cell_type": "code",
   "execution_count": 1,
   "metadata": {},
   "outputs": [],
   "source": [
    "import os\n",
    "import torch\n",
    "from torch import optim\n",
    "from torch.utils.tensorboard import SummaryWriter\n",
    "\n",
    "from utils import fix_seed\n",
    "from train import epoch_loop\n",
    "from callbacks import EarlyStopping\n",
    "from models import VariationalAutoEncoder\n",
    "from datasets import load_tfds, pre_train_preprocessing"
   ]
  },
  {
   "cell_type": "code",
   "execution_count": 2,
   "metadata": {},
   "outputs": [],
   "source": [
    "device = torch.device(\"cuda\" if torch.cuda.is_available() else \"cpu\")\n",
    "\n",
    "x_dim = 28 * 28\n",
    "z_dim = 2\n",
    "\n",
    "model = VariationalAutoEncoder(x_dim, z_dim, device)\n",
    "model.load_state_dict(torch.load(\"./models/checkpoint_z2.pth\"))\n",
    "model.eval()\n",
    "for param in model.parameters():\n",
    "    param.grad = None"
   ]
  },
  {
   "cell_type": "code",
   "execution_count": 3,
   "metadata": {},
   "outputs": [],
   "source": [
    "model.qconfig = torch.quantization.default_qconfig"
   ]
  },
  {
   "cell_type": "code",
   "execution_count": 4,
   "metadata": {},
   "outputs": [
    {
     "data": {
      "text/plain": [
       "VariationalAutoEncoder(\n",
       "  (encoder): Encoder(\n",
       "    (fc1): Linear(in_features=784, out_features=512, bias=True)\n",
       "    (fc2): Linear(in_features=512, out_features=256, bias=True)\n",
       "    (mean): Linear(in_features=256, out_features=2, bias=True)\n",
       "    (log_var): Linear(in_features=256, out_features=2, bias=True)\n",
       "  )\n",
       "  (decoder): Decoder(\n",
       "    (fc1): Linear(in_features=2, out_features=256, bias=True)\n",
       "    (fc2): Linear(in_features=256, out_features=512, bias=True)\n",
       "    (drop): Dropout(p=0.2, inplace=False)\n",
       "    (fc3): Linear(in_features=512, out_features=784, bias=True)\n",
       "  )\n",
       ")"
      ]
     },
     "execution_count": 4,
     "metadata": {},
     "output_type": "execute_result"
    }
   ],
   "source": [
    "torch.quantization.convert(model, inplace=True)"
   ]
  },
  {
   "cell_type": "code",
   "execution_count": 5,
   "metadata": {},
   "outputs": [],
   "source": [
    "log_dir = \"./logs\"\n",
    "writer = SummaryWriter(log_dir)\n",
    "seed = 42\n",
    "fix_seed(seed)\n",
    "x_dim = 28 * 28\n",
    "z_dim = 3\n",
    "batch_size = 1024\n",
    "num_epochs = 1000\n",
    "learning_rate = 0.001\n",
    "loss_fn = lambda lower_bound: -sum(lower_bound)\n",
    "device = torch.device(\"cuda\" if torch.cuda.is_available() else \"cpu\")\n",
    "\n",
    "os.makedirs(log_dir) if not os.path.exists(log_dir) else None\n",
    "\n",
    "dataset_train, dataset_valid, dataset_test = load_tfds(\"mnist\", \n",
    "    batch_size=batch_size, preprocess_fn=pre_train_preprocessing, seed=seed)"
   ]
  },
  {
   "cell_type": "code",
   "execution_count": 8,
   "metadata": {},
   "outputs": [
    {
     "name": "stdout",
     "output_type": "stream",
     "text": [
      "(1024, 28, 28, 1)\n",
      "tf.Tensor([8 4 8 ... 3 1 4], shape=(1024,), dtype=int64)\n"
     ]
    },
    {
     "name": "stderr",
     "output_type": "stream",
     "text": [
      "2022-06-22 17:06:48.886743: W tensorflow/core/kernels/data/cache_dataset_ops.cc:768] The calling iterator did not fully read the dataset being cached. In order to avoid unexpected truncation of the dataset, the partially cached contents of the dataset  will be discarded. This can happen if you have an input pipeline similar to `dataset.cache().take(k).repeat()`. You should use `dataset.take(k).cache().repeat()` instead.\n"
     ]
    }
   ],
   "source": [
    "for data in dataset_train:\n",
    "    x = data['image']\n",
    "    t = data['label']\n",
    "    print(x.shape)\n",
    "    print(t)\n",
    "    break"
   ]
  }
 ],
 "metadata": {
  "interpreter": {
   "hash": "aee8b7b246df8f9039afb4144a1f6fd8d2ca17a180786b69acc140d282b71a49"
  },
  "kernelspec": {
   "display_name": "Python 3.9.9 64-bit",
   "language": "python",
   "name": "python3"
  },
  "language_info": {
   "codemirror_mode": {
    "name": "ipython",
    "version": 3
   },
   "file_extension": ".py",
   "mimetype": "text/x-python",
   "name": "python",
   "nbconvert_exporter": "python",
   "pygments_lexer": "ipython3",
   "version": "3.10.3"
  },
  "orig_nbformat": 4
 },
 "nbformat": 4,
 "nbformat_minor": 2
}
